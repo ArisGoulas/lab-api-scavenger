{
 "cells": [
  {
   "cell_type": "code",
   "execution_count": 5,
   "id": "aec02a2d",
   "metadata": {},
   "outputs": [],
   "source": [
    "import requests\n",
    "import pandas as pd\n",
    "import json\n",
    "import datetime"
   ]
  },
  {
   "cell_type": "code",
   "execution_count": 6,
   "id": "d79a4ed8",
   "metadata": {},
   "outputs": [
    {
     "name": "stdout",
     "output_type": "stream",
     "text": [
      "{'HTML', 'Jupyter Notebook'}\n"
     ]
    }
   ],
   "source": [
    "#challenge 1\n",
    "\n",
    "url = \"https://api.github.com/repos/ironhack-datalabs/mad-oct-2018/forks\" #mad or madrid? no difference?\n",
    "\n",
    "response = requests.get(url)\n",
    "\n",
    "forks = response.json()\n",
    "\n",
    "languages = set()\n",
    "\n",
    "for fork in forks:\n",
    "    language = fork[\"language\"]\n",
    "    if language:\n",
    "        languages.add(language)\n",
    "\n",
    "print(languages)"
   ]
  },
  {
   "cell_type": "code",
   "execution_count": 17,
   "id": "8b0e85f5",
   "metadata": {},
   "outputs": [
    {
     "data": {
      "text/plain": [
       "2"
      ]
     },
     "execution_count": 17,
     "metadata": {},
     "output_type": "execute_result"
    }
   ],
   "source": [
    "# challenge 2\n",
    "\n",
    "url = \"https://api.github.com/repos/ArisGoulas/lab-list-comprehensions/commits\"\n",
    "\n",
    "from datetime import datetime, timedelta\n",
    "\n",
    "repo_name = \"lab-list-comprehensions\"\n",
    "owner_name = \"ArisGoulas\"\n",
    "\n",
    "two_weeks_ago = datetime.now() - timedelta(days=14)\n",
    "since_date = two_weeks_ago.isoformat()\n",
    "\n",
    "params = {\"since\": since_date, \"sha\": \"main\"}\n",
    "headers = {\"Accept\": \"application/vnd.github.v3+json\"}\n",
    "\n",
    "response = requests.get(url, params=params, headers=headers)\n",
    "\n",
    "len(response.json())"
   ]
  },
  {
   "cell_type": "code",
   "execution_count": null,
   "id": "afc05a9b",
   "metadata": {},
   "outputs": [],
   "source": []
  }
 ],
 "metadata": {
  "kernelspec": {
   "display_name": "Python 3 (ipykernel)",
   "language": "python",
   "name": "python3"
  },
  "language_info": {
   "codemirror_mode": {
    "name": "ipython",
    "version": 3
   },
   "file_extension": ".py",
   "mimetype": "text/x-python",
   "name": "python",
   "nbconvert_exporter": "python",
   "pygments_lexer": "ipython3",
   "version": "3.10.10"
  }
 },
 "nbformat": 4,
 "nbformat_minor": 5
}
